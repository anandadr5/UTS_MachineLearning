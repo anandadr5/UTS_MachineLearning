{
  "nbformat": 4,
  "nbformat_minor": 0,
  "metadata": {
    "colab": {
      "provenance": []
    },
    "kernelspec": {
      "name": "python3",
      "display_name": "Python 3"
    },
    "language_info": {
      "name": "python"
    }
  },
  "cells": [
    {
      "cell_type": "code",
      "execution_count": 3,
      "metadata": {
        "colab": {
          "base_uri": "https://localhost:8080/"
        },
        "id": "eBI_2CEt8J0u",
        "outputId": "b3364b82-939a-4005-8560-62e67e87cb69"
      },
      "outputs": [
        {
          "output_type": "stream",
          "name": "stdout",
          "text": [
            "a) Rata-rata mahasiswa datang per hari: 2.7142857142857144\n",
            "b) Biaya tertinggi terjadi pada hari Sabtu dengan biaya sebesar 150000\n",
            "c) Hari di mana biaya lebih dari 110000: ['Sabtu']\n",
            "d) Mahasiswa yang paling banyak datang ke kampus: Ani\n",
            "e) Mahasiswa yang datang pada hari Minggu: ['Budi']\n",
            "f) Biaya tertinggi: 150000\n",
            "   Biaya terendah: 15000\n",
            "g) Frekuensi datang tertinggi: 5\n",
            "   Frekuensi datang terendah: 1\n"
          ]
        }
      ],
      "source": [
        "# Data mahasiswa dan biaya per kunjungan\n",
        "data = {\n",
        "    \"Ani\": {\"biaya\": 30000},\n",
        "    \"Budi\": {\"biaya\": 35000},\n",
        "    \"Joni\": {\"biaya\": 20000},\n",
        "    \"Jono\": {\"biaya\": 25000},\n",
        "    \"Lono\": {\"biaya\": 15000}\n",
        "}\n",
        "\n",
        "# Input data kunjungan mahasiswa per hari\n",
        "kunjungan_per_hari = {\n",
        "    \"Senin\": {\"Ani\": 2},\n",
        "    \"Selasa\": {\"Budi\": 3},\n",
        "    \"Rabu\": {\"Jono\": 4},\n",
        "    \"Kamis\": {\"Lono\": 1},\n",
        "    \"Jumat\": {\"Joni\": 2},\n",
        "    \"Sabtu\": {\"Ani\": 5},\n",
        "    \"Minggu\": {\"Budi\": 2}\n",
        "}\n",
        "\n",
        "# Menghitung rata-rata mahasiswa datang per hari\n",
        "total_mahasiswa = sum([sum(data.values()) for data in kunjungan_per_hari.values()])\n",
        "jumlah_hari = len(kunjungan_per_hari)\n",
        "rata_rata_mahasiswa = total_mahasiswa / jumlah_hari\n",
        "\n",
        "print(\"a) Rata-rata mahasiswa datang per hari:\", rata_rata_mahasiswa)\n",
        "\n",
        "# Mencari biaya tertinggi dan hari kapan terjadi\n",
        "biaya_max = max([sum(data[mahasiswa][\"biaya\"] * kunjungan for mahasiswa, kunjungan in kunjungan_per_hari[hari].items()) for hari in kunjungan_per_hari])\n",
        "hari_biaya_max = [hari for hari in kunjungan_per_hari if sum(data[mahasiswa][\"biaya\"] * kunjungan for mahasiswa, kunjungan in kunjungan_per_hari[hari].items()) == biaya_max][0]\n",
        "\n",
        "print(\"b) Biaya tertinggi terjadi pada hari\", hari_biaya_max, \"dengan biaya sebesar\", biaya_max)\n",
        "\n",
        "\n",
        "# Mencari hari di mana biaya lebih dari 110000\n",
        "hari_biaya_lebih_dari_110000 = [hari for hari in kunjungan_per_hari if sum(data[mahasiswa][\"biaya\"] * kunjungan for mahasiswa, kunjungan in kunjungan_per_hari[hari].items()) > 110000]\n",
        "\n",
        "print(\"c) Hari di mana biaya lebih dari 110000:\", hari_biaya_lebih_dari_110000)\n",
        "\n",
        "\n",
        "# Mencari siapa yang paling banyak datang ke kampus\n",
        "jumlah_kunjungan_per_mahasiswa = {mahasiswa: sum(kunjungan_per_hari[hari].get(mahasiswa, 0) for hari in kunjungan_per_hari) for mahasiswa in data}\n",
        "mahasiswa_paling_banyak_datang = max(jumlah_kunjungan_per_mahasiswa, key=jumlah_kunjungan_per_mahasiswa.get)\n",
        "\n",
        "print(\"d) Mahasiswa yang paling banyak datang ke kampus:\", mahasiswa_paling_banyak_datang)\n",
        "\n",
        "# Mencari mahasiswa yang datang pada hari Minggu\n",
        "mahasiswa_datang_minggu = [mahasiswa for mahasiswa, kunjungan in kunjungan_per_hari[\"Minggu\"].items() if kunjungan > 0]\n",
        "\n",
        "print(\"e) Mahasiswa yang datang pada hari Minggu:\", mahasiswa_datang_minggu)\n",
        "\n",
        "\n",
        "# Mencari biaya tertinggi dan terendah\n",
        "biaya_per_hari = [sum(data[mahasiswa][\"biaya\"] * kunjungan for mahasiswa, kunjungan in kunjungan_per_hari[hari].items()) for hari in kunjungan_per_hari]\n",
        "biaya_tertinggi = max(biaya_per_hari)\n",
        "biaya_terendah = min(biaya_per_hari)\n",
        "\n",
        "print(\"f) Biaya tertinggi:\", biaya_tertinggi)\n",
        "print(\"   Biaya terendah:\", biaya_terendah)\n",
        "\n",
        "\n",
        "# Mencari frekuensi datang tertinggi dan terendah\n",
        "frekuensi_datang_per_hari = [sum(kunjungan_per_hari[hari].values()) for hari in kunjungan_per_hari]\n",
        "frekuensi_datang_tertinggi = max(frekuensi_datang_per_hari)\n",
        "frekuensi_datang_terendah = min(frekuensi_datang_per_hari)\n",
        "\n",
        "print(\"g) Frekuensi datang tertinggi:\", frekuensi_datang_tertinggi)\n",
        "print(\"   Frekuensi datang terendah:\", frekuensi_datang_terendah)\n"
      ]
    }
  ]
}